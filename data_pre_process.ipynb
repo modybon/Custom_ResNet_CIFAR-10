{
 "cells": [
  {
   "cell_type": "code",
   "execution_count": 15,
   "id": "e3007df5-086c-4bd2-9747-7212438d4ebf",
   "metadata": {},
   "outputs": [],
   "source": [
    "import torch\n",
    "from torch.utils.data import random_split, DataLoader\n",
    "import torchvision\n",
    "import torchvision.transforms as transforms"
   ]
  },
  {
   "cell_type": "code",
   "execution_count": 16,
   "id": "39b8d2df-1734-41de-ae55-412c46e40528",
   "metadata": {},
   "outputs": [],
   "source": [
    "transform = transforms.Compose([\n",
    "    transforms.ToTensor(),\n",
    "])"
   ]
  },
  {
   "cell_type": "code",
   "execution_count": 55,
   "id": "3f834fc7-f9c7-4a75-8994-0b177c3fc5fa",
   "metadata": {},
   "outputs": [],
   "source": [
    "def get_data_loader(train_split, batch_num):\n",
    "    full_trainset = torchvision.datasets.CIFAR10(\n",
    "        root='./data',\n",
    "        train=True,\n",
    "        download=True,\n",
    "        transform=transform\n",
    "    )\n",
    "    \n",
    "    images_num = len(full_trainset)\n",
    "    train_size = int(images_num * train_split)\n",
    "    rest_size = (images_num - train_size) // 2\n",
    "    val_size = rest_size\n",
    "    test_size = rest_size\n",
    "    \n",
    "    print(train_size, val_size, test_size, rest_size)\n",
    "    \n",
    "    trainset, valset, testset = random_split(full_trainset, [train_size, val_size, test_size])\n",
    "    trainloader = DataLoader(trainset, batch_size=batch_num, shuffle=True, num_workers=2)\n",
    "    valloader = DataLoader(valset, batch_size=batch_num, shuffle=True, num_workers=2)\n",
    "    testloader = DataLoader(testset, batch_size=batch_num, shuffle=True, num_workers=2)\n",
    "\n",
    "    return trainset, valloader, testloader"
   ]
  },
  {
   "cell_type": "code",
   "execution_count": 60,
   "id": "e6712e6a-f240-4f37-bb08-5220d24afe64",
   "metadata": {},
   "outputs": [
    {
     "name": "stdout",
     "output_type": "stream",
     "text": [
      "42500 3750 3750 3750\n"
     ]
    },
    {
     "data": {
      "text/plain": [
       "(<torch.utils.data.dataset.Subset at 0x7f449eea4fb0>,\n",
       " <torch.utils.data.dataloader.DataLoader at 0x7f449eea4200>,\n",
       " <torch.utils.data.dataloader.DataLoader at 0x7f449eea73b0>)"
      ]
     },
     "execution_count": 60,
     "metadata": {},
     "output_type": "execute_result"
    }
   ],
   "source": [
    "get_data_loader(0.85, 64)"
   ]
  },
  {
   "cell_type": "code",
   "execution_count": 31,
   "id": "edc85c50-8a2f-4dc4-a341-ba6b4606e241",
   "metadata": {},
   "outputs": [],
   "source": []
  },
  {
   "cell_type": "code",
   "execution_count": null,
   "id": "ccd9357f-616b-4700-b355-ec707ac6d67d",
   "metadata": {},
   "outputs": [],
   "source": []
  }
 ],
 "metadata": {
  "kernelspec": {
   "display_name": "Python 3 (ipykernel)",
   "language": "python",
   "name": "python3"
  },
  "language_info": {
   "codemirror_mode": {
    "name": "ipython",
    "version": 3
   },
   "file_extension": ".py",
   "mimetype": "text/x-python",
   "name": "python",
   "nbconvert_exporter": "python",
   "pygments_lexer": "ipython3",
   "version": "3.12.3"
  }
 },
 "nbformat": 4,
 "nbformat_minor": 5
}
