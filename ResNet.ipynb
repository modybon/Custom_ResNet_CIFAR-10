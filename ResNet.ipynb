{
 "cells": [
  {
   "cell_type": "code",
   "execution_count": 1,
   "id": "3f5325c6-6ee0-4032-bddd-1949b8c357cf",
   "metadata": {},
   "outputs": [],
   "source": [
    "import numpy as np\n",
    "import pandas as pd\n",
    "import torch\n",
    "import torch.nn as nn"
   ]
  },
  {
   "cell_type": "code",
   "execution_count": 2,
   "id": "a90afe5a-6b3c-4bce-bd4b-948bc9730b9d",
   "metadata": {},
   "outputs": [],
   "source": [
    "class Residual_Block(nn.Module):\n",
    "    def __init__(self, in_channels, out_channels, stride=1):\n",
    "        super(Residual_Block, self).__init__()\n",
    "        self.conv1 = nn.Conv2d(in_channels, out_channels, kernel_size=3, stride=stride, padding=1)\n",
    "        self.bn1 = nn.BatchNorm2d(out_channels)\n",
    "\n",
    "        self.conv2 = nn.Conv2d(out_channels, out_channels, kernel_size=3, stride=1, padding=1)\n",
    "        self.bn2 = nn.BatchNorm2d(out_channels)\n",
    "\n",
    "        self.relu = nn.ReLU()\n",
    "        self.stride = stride\n",
    "        \n",
    "        self.downsample = None\n",
    "        \n",
    "        if stride != 1 or in_channels != out_channels:\n",
    "            self.downsample = nn.Sequential(\n",
    "                nn.Conv2d(in_channels, out_channels, kernel_size=1, stride=stride, padding=0),\n",
    "                nn.BatchNorm2d(out_channels)\n",
    "            )\n",
    "    def forward(self, x):\n",
    "        identity = x\n",
    "        \n",
    "        out = self.conv1(x)\n",
    "        out = self.bn1(out)\n",
    "        out = self.relu(out)\n",
    "        \n",
    "        out = self.conv2(out)\n",
    "        out = self.bn2(out)\n",
    "\n",
    "        if self.downsample != None:\n",
    "            identity = self.downsample(identity)\n",
    "        print(f'Identity: {identity.shape}, Out: {out.shape}')\n",
    "        out += identity\n",
    "        out = self.relu(out)\n",
    "        return out"
   ]
  },
  {
   "cell_type": "code",
   "execution_count": 3,
   "id": "443d6769-78f4-4ca5-8561-2a8724523fd6",
   "metadata": {},
   "outputs": [
    {
     "name": "stdout",
     "output_type": "stream",
     "text": [
      "Identity: torch.Size([2, 128, 32, 32]), Out: torch.Size([2, 128, 32, 32])\n",
      "torch.Size([2, 128, 32, 32])\n"
     ]
    }
   ],
   "source": [
    "sample = torch.randn(2,3, 64, 64)\n",
    "\n",
    "res_block = Residual_Block(3,128, stride=2)\n",
    "y = res_block(sample)\n",
    "\n",
    "print(y.shape)"
   ]
  },
  {
   "cell_type": "code",
   "execution_count": 4,
   "id": "9bddcb3a-ee35-4178-8887-a53881b18f19",
   "metadata": {},
   "outputs": [],
   "source": [
    "# class Cifar_Resnet(nn.Module):\n",
    "#     def __init__(self,in_channels,classes_num):\n",
    "#         super(Cifar_Resnet, self).__init__()\n",
    "        \n",
    "#         self.out_channels = 64\n",
    "#         self.conv_1 = nn.Conv2d(in_channels, self.out_channels, kernel_size=7, stride=1, padding=3)\n",
    "#         self.bn1 = nn.BatchNorm2d(self.out_channels)\n",
    "#         self.max_pool = nn.MaxPool2d(kernel_size=3, stride=1, padding=1)\n",
    "#         self.relu = nn.ReLU()\n",
    "        \n",
    "#         # Residual layers            \n",
    "#         self.layer1 = self._make_layer(self.out_channels, self.out_channels, 2, stride=1)\n",
    "#         self.layer2 = self._make_layer(self.out_channels, self.out_channels*2, 2, stride=2)\n",
    "#         self.layer3 = self._make_layer(self.out_channels, self.out_channels*2, 2, stride=2)\n",
    "#         self.layer4 = self._make_layer(self.out_channels, self.out_channels*2, 2, stride=2)\n",
    "\n",
    "#         self.avgpool = nn.AdaptiveAvgPool2d((1,1))\n",
    "#         self.fc = nn.Linear(self.out_channels, classes_num)\n",
    "#     def _make_layer(self, in_c, out_c, num_blocks, stride=1):\n",
    "#         layers = []\n",
    "#         layers.append(Residual_Block(in_c, out_c, stride=stride))\n",
    "#         for _ in range(1,num_blocks):\n",
    "#             layers.append(Residual_Block(out_c, out_c, stride=1))\n",
    "#         self.out_channels = out_c\n",
    "#         return nn.Sequential(*layers)\n",
    "        \n",
    "#     def forward(self,x):\n",
    "#         x = self.conv_1(x)\n",
    "#         x = self.bn1(x)\n",
    "#         x = self.relu(x)\n",
    "#         x = self.max_pool(x)\n",
    "#         x = self.layer1(x)\n",
    "#         x = self.layer2(x)\n",
    "#         x = self.layer3(x)\n",
    "#         x = self.layer4(x)\n",
    "#         x = self.avgpool(x)\n",
    "#         x = torch.flatten(x, 1)\n",
    "#         x = self.fc(x)\n",
    "#         return x"
   ]
  },
  {
   "cell_type": "code",
   "execution_count": 21,
   "id": "492c751b-267b-44cd-bb8a-a38c6a23460f",
   "metadata": {},
   "outputs": [],
   "source": [
    "class Cifar_Resnet(nn.Module):\n",
    "    def __init__(self,layers,in_channels,classes_num):\n",
    "        super(Cifar_Resnet, self).__init__()\n",
    "        \n",
    "        self.out_channels = 64\n",
    "        self.conv_1 = nn.Conv2d(in_channels, self.out_channels, kernel_size=7, stride=1, padding=3)\n",
    "        self.bn1 = nn.BatchNorm2d(self.out_channels)\n",
    "        self.max_pool = nn.MaxPool2d(kernel_size=3, stride=1, padding=1)\n",
    "        self.relu = nn.ReLU()\n",
    "\n",
    "        layers_list = []\n",
    "        # Residual layers    \n",
    "        for i, blocks_num in enumerate(layers):\n",
    "            if i == 0:\n",
    "                layer = self._make_layer(self.out_channels, self.out_channels, blocks_num, stride=1)\n",
    "                layers_list.append(layer)\n",
    "            else:\n",
    "                layer = self._make_layer(self.out_channels, self.out_channels, blocks_num, stride=2)\n",
    "                layers_list.append(layer)\n",
    "\n",
    "        self.residual_layers = nn.Sequential(*layers_list)\n",
    "        self.avgpool = nn.AdaptiveAvgPool2d((1,1))\n",
    "        self.fc = nn.Linear(self.out_channels, classes_num)\n",
    "    def _make_layer(self, in_c, out_c, num_blocks, stride=1):\n",
    "        layers = []\n",
    "        layers.append(Residual_Block(in_c, out_c, stride=stride))\n",
    "        for _ in range(1,num_blocks):\n",
    "            layers.append(Residual_Block(out_c, out_c, stride=1))\n",
    "        self.out_channels = out_c\n",
    "        return nn.Sequential(*layers)\n",
    "        \n",
    "    def forward(self,x):\n",
    "        x = self.conv_1(x)\n",
    "        x = self.bn1(x)\n",
    "        x = self.relu(x)\n",
    "        x = self.max_pool(x)\n",
    "        x = self.residual_layers(x)\n",
    "        print(x.shape)\n",
    "        x = self.avgpool(x)\n",
    "        x = torch.flatten(x, 1)\n",
    "        x = self.fc(x)\n",
    "        return x"
   ]
  },
  {
   "cell_type": "code",
   "execution_count": 31,
   "id": "72bdadcc-1b4d-4a5f-a274-834e8a422941",
   "metadata": {},
   "outputs": [
    {
     "name": "stdout",
     "output_type": "stream",
     "text": [
      "Identity: torch.Size([2, 64, 32, 32]), Out: torch.Size([2, 64, 32, 32])\n",
      "Identity: torch.Size([2, 64, 32, 32]), Out: torch.Size([2, 64, 32, 32])\n",
      "Identity: torch.Size([2, 64, 32, 32]), Out: torch.Size([2, 64, 32, 32])\n",
      "Identity: torch.Size([2, 64, 16, 16]), Out: torch.Size([2, 64, 16, 16])\n",
      "Identity: torch.Size([2, 64, 16, 16]), Out: torch.Size([2, 64, 16, 16])\n",
      "Identity: torch.Size([2, 64, 16, 16]), Out: torch.Size([2, 64, 16, 16])\n",
      "Identity: torch.Size([2, 64, 16, 16]), Out: torch.Size([2, 64, 16, 16])\n",
      "Identity: torch.Size([2, 64, 8, 8]), Out: torch.Size([2, 64, 8, 8])\n",
      "Identity: torch.Size([2, 64, 8, 8]), Out: torch.Size([2, 64, 8, 8])\n",
      "Identity: torch.Size([2, 64, 8, 8]), Out: torch.Size([2, 64, 8, 8])\n",
      "Identity: torch.Size([2, 64, 8, 8]), Out: torch.Size([2, 64, 8, 8])\n",
      "Identity: torch.Size([2, 64, 8, 8]), Out: torch.Size([2, 64, 8, 8])\n",
      "Identity: torch.Size([2, 64, 8, 8]), Out: torch.Size([2, 64, 8, 8])\n",
      "Identity: torch.Size([2, 64, 4, 4]), Out: torch.Size([2, 64, 4, 4])\n",
      "Identity: torch.Size([2, 64, 4, 4]), Out: torch.Size([2, 64, 4, 4])\n",
      "Identity: torch.Size([2, 64, 4, 4]), Out: torch.Size([2, 64, 4, 4])\n",
      "torch.Size([2, 64, 4, 4])\n"
     ]
    },
    {
     "data": {
      "text/plain": [
       "tensor([[-0.0839, -0.1202,  0.1396, -1.2202,  1.0544, -0.4070, -0.6108, -0.5873,\n",
       "          0.2345,  0.7345],\n",
       "        [ 0.1211, -0.3507, -0.0953, -1.0316,  0.7895, -0.2497, -0.5298, -0.8457,\n",
       "          0.0321,  0.6381]], grad_fn=<AddmmBackward0>)"
      ]
     },
     "execution_count": 31,
     "metadata": {},
     "output_type": "execute_result"
    }
   ],
   "source": [
    "sample = torch.randn(2,3, 32, 32)\n",
    "\n",
    "model = Cifar_Resnet([3,4,6,3], 3, 10)\n",
    "\n",
    "model(sample)"
   ]
  }
 ],
 "metadata": {
  "kernelspec": {
   "display_name": "Python 3 (ipykernel)",
   "language": "python",
   "name": "python3"
  },
  "language_info": {
   "codemirror_mode": {
    "name": "ipython",
    "version": 3
   },
   "file_extension": ".py",
   "mimetype": "text/x-python",
   "name": "python",
   "nbconvert_exporter": "python",
   "pygments_lexer": "ipython3",
   "version": "3.12.3"
  }
 },
 "nbformat": 4,
 "nbformat_minor": 5
}
