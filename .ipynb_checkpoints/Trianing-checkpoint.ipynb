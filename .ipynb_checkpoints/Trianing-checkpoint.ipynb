{
 "cells": [
  {
   "cell_type": "code",
   "execution_count": 45,
   "id": "36f596b3-ca7d-49c7-9832-c7c049539a7d",
   "metadata": {},
   "outputs": [],
   "source": [
    "import torch \n",
    "import torch.nn as nn\n",
    "import torch.optim as optim\n",
    "import pandas as pd\n",
    "import numpy as np\n",
    "import matplotlib.pyplot as plt\n",
    "import seaborn as sns"
   ]
  },
  {
   "cell_type": "code",
   "execution_count": 2,
   "id": "fd338ed6-c637-441e-8257-cc5908145c5c",
   "metadata": {},
   "outputs": [
    {
     "data": {
      "text/plain": [
       "'cuda'"
      ]
     },
     "execution_count": 2,
     "metadata": {},
     "output_type": "execute_result"
    }
   ],
   "source": [
    "device = 'cuda' if torch.cuda.is_available() else 'cpu'\n",
    "device"
   ]
  },
  {
   "cell_type": "code",
   "execution_count": 3,
   "id": "1bce1500-4fe6-4745-9855-d674f9c80568",
   "metadata": {},
   "outputs": [
    {
     "name": "stdout",
     "output_type": "stream",
     "text": [
      "torch.Size([2, 128, 32, 32])\n"
     ]
    }
   ],
   "source": [
    "from data_pre_process import trainloader, testloader\n",
    "from ResNet import Cifar_Resnet"
   ]
  },
  {
   "cell_type": "code",
   "execution_count": 8,
   "id": "bd985215-3137-4113-806b-91cf9d3f6187",
   "metadata": {},
   "outputs": [],
   "source": [
    "_, c, h, w = next(iter(trainloader))[0].shape"
   ]
  },
  {
   "cell_type": "code",
   "execution_count": 38,
   "id": "6c232416-1d7e-4653-8428-b4316db35c19",
   "metadata": {},
   "outputs": [],
   "source": [
    "def eval_model(model, evalLoader):\n",
    "    model.eval()\n",
    "    total_loss = 0\n",
    "    total = 0\n",
    "    correct = 0\n",
    "    with torch.no_grad():\n",
    "        for images, labels in evalLoader:\n",
    "            images = images.to(device)\n",
    "            labels = labels.to(device)\n",
    "\n",
    "            outputs = model(images)\n",
    "            loss = criterion(outputs, labels)\n",
    "            total_loss += loss.item()\n",
    "            _, predicted = torch.max(outputs, 1)\n",
    "            correct += (predicted == labels).sum().item()\n",
    "            total += labels.size(0)\n",
    "    return total_loss/len(evalLoader),correct/total"
   ]
  },
  {
   "cell_type": "code",
   "execution_count": 39,
   "id": "565636dc-bef4-467f-bd0d-c82795b11d61",
   "metadata": {},
   "outputs": [
    {
     "name": "stdout",
     "output_type": "stream",
     "text": [
      "Epoch 1/10, Loss: 1.3957, Train Accuracy: 49.29%, Test Accuracy: 53.02%\n",
      "Epoch 2/10, Loss: 0.9752, Train Accuracy: 65.45%, Test Accuracy: 65.31%\n",
      "Epoch 3/10, Loss: 0.7540, Train Accuracy: 73.33%, Test Accuracy: 70.70%\n",
      "Epoch 4/10, Loss: 0.6070, Train Accuracy: 78.64%, Test Accuracy: 74.45%\n",
      "Epoch 5/10, Loss: 0.4933, Train Accuracy: 82.71%, Test Accuracy: 77.31%\n",
      "Epoch 6/10, Loss: 0.3929, Train Accuracy: 86.14%, Test Accuracy: 80.65%\n",
      "Epoch 7/10, Loss: 0.2951, Train Accuracy: 89.65%, Test Accuracy: 80.26%\n",
      "Epoch 8/10, Loss: 0.2225, Train Accuracy: 92.38%, Test Accuracy: 81.61%\n",
      "Epoch 9/10, Loss: 0.1520, Train Accuracy: 94.54%, Test Accuracy: 81.81%\n",
      "Epoch 10/10, Loss: 0.1103, Train Accuracy: 96.20%, Test Accuracy: 79.83%\n"
     ]
    }
   ],
   "source": [
    "model = Cifar_Resnet(c, 10).to(device)\n",
    "epochs = 10\n",
    "optimizer = optim.Adam(model.parameters(), lr=0.001)\n",
    "criterion = nn.CrossEntropyLoss()\n",
    "\n",
    "training_logs = pd.DataFrame()\n",
    "for epoch in range(epochs):\n",
    "    model.train()\n",
    "    epoch_loss = 0\n",
    "    correct = 0\n",
    "    total = 0\n",
    "    \n",
    "    for images, labels in trainloader:\n",
    "        images = images.to(device)\n",
    "        labels = labels.to(device)\n",
    "        optimizer.zero_grad()\n",
    "        \n",
    "        outputs = model(images)\n",
    "        loss = criterion(outputs, labels)\n",
    "\n",
    "        _, predicted = torch.max(outputs, 1)\n",
    "        total += labels.size(0)\n",
    "        correct += (predicted == labels).sum().item()\n",
    "        loss.backward()\n",
    "        optimizer.step()\n",
    "\n",
    "        epoch_loss += loss.item()\n",
    "    epoch_loss = epoch_loss / len(trainloader)\n",
    "    train_accuracy = correct / total * 100\n",
    "    val_loss , val_accuracy =  eval_model(model, testloader)\n",
    "    training_info = pd.DataFrame([{\"label\": \"Training\", \"accuracy\": train_accuracy, 'loss':epoch_loss,'epoch': epoch}])\n",
    "    validation_info = pd.DataFrame([{\"label\": \"Validation\", \"accuracy\": val_accuracy*100,'loss':val_loss, 'epoch': epoch}])\n",
    "    training_logs = pd.concat([training_logs, training_info, validation_info], axis=0, ignore_index=True)\n",
    "    print(f\"Epoch {epoch+1}/{epochs}, Loss: {epoch_loss:.4f}, Train Accuracy: {train_accuracy:.2f}%, Test Accuracy: {val_accuracy*100:.2f}%\")"
   ]
  },
  {
   "cell_type": "code",
   "execution_count": 40,
   "id": "24ffde5f-b6fd-4be9-8025-71ab73b00290",
   "metadata": {},
   "outputs": [
    {
     "data": {
      "text/html": [
       "<div>\n",
       "<style scoped>\n",
       "    .dataframe tbody tr th:only-of-type {\n",
       "        vertical-align: middle;\n",
       "    }\n",
       "\n",
       "    .dataframe tbody tr th {\n",
       "        vertical-align: top;\n",
       "    }\n",
       "\n",
       "    .dataframe thead th {\n",
       "        text-align: right;\n",
       "    }\n",
       "</style>\n",
       "<table border=\"1\" class=\"dataframe\">\n",
       "  <thead>\n",
       "    <tr style=\"text-align: right;\">\n",
       "      <th></th>\n",
       "      <th>label</th>\n",
       "      <th>accuracy</th>\n",
       "      <th>loss</th>\n",
       "      <th>epoch</th>\n",
       "    </tr>\n",
       "  </thead>\n",
       "  <tbody>\n",
       "    <tr>\n",
       "      <th>0</th>\n",
       "      <td>Training</td>\n",
       "      <td>49.292</td>\n",
       "      <td>1.395738</td>\n",
       "      <td>0</td>\n",
       "    </tr>\n",
       "    <tr>\n",
       "      <th>1</th>\n",
       "      <td>Validation</td>\n",
       "      <td>53.020</td>\n",
       "      <td>1.304907</td>\n",
       "      <td>0</td>\n",
       "    </tr>\n",
       "    <tr>\n",
       "      <th>2</th>\n",
       "      <td>Training</td>\n",
       "      <td>65.446</td>\n",
       "      <td>0.975191</td>\n",
       "      <td>1</td>\n",
       "    </tr>\n",
       "    <tr>\n",
       "      <th>3</th>\n",
       "      <td>Validation</td>\n",
       "      <td>65.310</td>\n",
       "      <td>0.966456</td>\n",
       "      <td>1</td>\n",
       "    </tr>\n",
       "    <tr>\n",
       "      <th>4</th>\n",
       "      <td>Training</td>\n",
       "      <td>73.330</td>\n",
       "      <td>0.753953</td>\n",
       "      <td>2</td>\n",
       "    </tr>\n",
       "    <tr>\n",
       "      <th>5</th>\n",
       "      <td>Validation</td>\n",
       "      <td>70.700</td>\n",
       "      <td>0.837408</td>\n",
       "      <td>2</td>\n",
       "    </tr>\n",
       "    <tr>\n",
       "      <th>6</th>\n",
       "      <td>Training</td>\n",
       "      <td>78.644</td>\n",
       "      <td>0.607035</td>\n",
       "      <td>3</td>\n",
       "    </tr>\n",
       "    <tr>\n",
       "      <th>7</th>\n",
       "      <td>Validation</td>\n",
       "      <td>74.450</td>\n",
       "      <td>0.747867</td>\n",
       "      <td>3</td>\n",
       "    </tr>\n",
       "    <tr>\n",
       "      <th>8</th>\n",
       "      <td>Training</td>\n",
       "      <td>82.712</td>\n",
       "      <td>0.493310</td>\n",
       "      <td>4</td>\n",
       "    </tr>\n",
       "    <tr>\n",
       "      <th>9</th>\n",
       "      <td>Validation</td>\n",
       "      <td>77.310</td>\n",
       "      <td>0.662304</td>\n",
       "      <td>4</td>\n",
       "    </tr>\n",
       "    <tr>\n",
       "      <th>10</th>\n",
       "      <td>Training</td>\n",
       "      <td>86.138</td>\n",
       "      <td>0.392893</td>\n",
       "      <td>5</td>\n",
       "    </tr>\n",
       "    <tr>\n",
       "      <th>11</th>\n",
       "      <td>Validation</td>\n",
       "      <td>80.650</td>\n",
       "      <td>0.580359</td>\n",
       "      <td>5</td>\n",
       "    </tr>\n",
       "    <tr>\n",
       "      <th>12</th>\n",
       "      <td>Training</td>\n",
       "      <td>89.648</td>\n",
       "      <td>0.295063</td>\n",
       "      <td>6</td>\n",
       "    </tr>\n",
       "    <tr>\n",
       "      <th>13</th>\n",
       "      <td>Validation</td>\n",
       "      <td>80.260</td>\n",
       "      <td>0.625447</td>\n",
       "      <td>6</td>\n",
       "    </tr>\n",
       "    <tr>\n",
       "      <th>14</th>\n",
       "      <td>Training</td>\n",
       "      <td>92.382</td>\n",
       "      <td>0.222520</td>\n",
       "      <td>7</td>\n",
       "    </tr>\n",
       "    <tr>\n",
       "      <th>15</th>\n",
       "      <td>Validation</td>\n",
       "      <td>81.610</td>\n",
       "      <td>0.614973</td>\n",
       "      <td>7</td>\n",
       "    </tr>\n",
       "    <tr>\n",
       "      <th>16</th>\n",
       "      <td>Training</td>\n",
       "      <td>94.538</td>\n",
       "      <td>0.152019</td>\n",
       "      <td>8</td>\n",
       "    </tr>\n",
       "    <tr>\n",
       "      <th>17</th>\n",
       "      <td>Validation</td>\n",
       "      <td>81.810</td>\n",
       "      <td>0.652703</td>\n",
       "      <td>8</td>\n",
       "    </tr>\n",
       "    <tr>\n",
       "      <th>18</th>\n",
       "      <td>Training</td>\n",
       "      <td>96.204</td>\n",
       "      <td>0.110252</td>\n",
       "      <td>9</td>\n",
       "    </tr>\n",
       "    <tr>\n",
       "      <th>19</th>\n",
       "      <td>Validation</td>\n",
       "      <td>79.830</td>\n",
       "      <td>0.863765</td>\n",
       "      <td>9</td>\n",
       "    </tr>\n",
       "  </tbody>\n",
       "</table>\n",
       "</div>"
      ],
      "text/plain": [
       "         label  accuracy      loss  epoch\n",
       "0     Training    49.292  1.395738      0\n",
       "1   Validation    53.020  1.304907      0\n",
       "2     Training    65.446  0.975191      1\n",
       "3   Validation    65.310  0.966456      1\n",
       "4     Training    73.330  0.753953      2\n",
       "5   Validation    70.700  0.837408      2\n",
       "6     Training    78.644  0.607035      3\n",
       "7   Validation    74.450  0.747867      3\n",
       "8     Training    82.712  0.493310      4\n",
       "9   Validation    77.310  0.662304      4\n",
       "10    Training    86.138  0.392893      5\n",
       "11  Validation    80.650  0.580359      5\n",
       "12    Training    89.648  0.295063      6\n",
       "13  Validation    80.260  0.625447      6\n",
       "14    Training    92.382  0.222520      7\n",
       "15  Validation    81.610  0.614973      7\n",
       "16    Training    94.538  0.152019      8\n",
       "17  Validation    81.810  0.652703      8\n",
       "18    Training    96.204  0.110252      9\n",
       "19  Validation    79.830  0.863765      9"
      ]
     },
     "execution_count": 40,
     "metadata": {},
     "output_type": "execute_result"
    }
   ],
   "source": [
    "training_logs"
   ]
  },
  {
   "cell_type": "code",
   "execution_count": 47,
   "id": "5bedbc37-eadd-4d82-8e83-9d85b513c909",
   "metadata": {},
   "outputs": [
    {
     "data": {
      "text/plain": [
       "<Axes: xlabel='epoch', ylabel='loss'>"
      ]
     },
     "execution_count": 47,
     "metadata": {},
     "output_type": "execute_result"
    },
    {
     "data": {
      "image/png": "[encoded data removed]",
      "text/plain": [
       "<Figure size 1000x500 with 2 Axes>"
      ]
     },
     "metadata": {},
     "output_type": "display_data"
    }
   ],
   "source": [
    "fig, axes = plt.subplots(1, 2, figsize=(10, 5))\n",
    "sns.lineplot(data=training_logs, x='epoch', y='accuracy', hue='label',ax=axes[0])\n",
    "sns.lineplot(data=training_logs, x='epoch', y='loss', hue='label',ax=axes[1])"
   ]
  }
 ],
 "metadata": {
  "kernelspec": {
   "display_name": "Python 3 (ipykernel)",
   "language": "python",
   "name": "python3"
  },
  "language_info": {
   "codemirror_mode": {
    "name": "ipython",
    "version": 3
   },
   "file_extension": ".py",
   "mimetype": "text/x-python",
   "name": "python",
   "nbconvert_exporter": "python",
   "pygments_lexer": "ipython3",
   "version": "3.12.3"
  }
 },
 "nbformat": 4,
 "nbformat_minor": 5
}
